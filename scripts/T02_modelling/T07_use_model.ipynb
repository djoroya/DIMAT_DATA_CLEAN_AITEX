{
 "cells": [
  {
   "cell_type": "code",
   "execution_count": 1,
   "id": "7b766b2d",
   "metadata": {},
   "outputs": [],
   "source": [
    "from model.use_model import predict_nn,predict_nn_onehot"
   ]
  },
  {
   "cell_type": "code",
   "execution_count": 2,
   "id": "fe13c499",
   "metadata": {},
   "outputs": [],
   "source": [
    "sample = {'Nº holes / Nº filaments': 36.0,\n",
    " 'Diameter (mm)': 0.4,\n",
    " 'L/D': 4.0,\n",
    " 'Filter (um)': 60.0,\n",
    " 'Sand quantity (cm)': 0.0,\n",
    " 'Vpump (rpm)': 10.0,\n",
    " 'Vext (rpm)': 23.9,\n",
    " 'TE1 (°C)': 280.0,\n",
    " 'TE2 (°C)': 285.0,\n",
    " 'TE3 (°C)': 285.0,\n",
    " 'TE4 (°C)': 290.0,\n",
    " 'TD(°C)': 295.0,\n",
    " 'PD(bar)': 95.2,\n",
    " 'PE(bar)': 69.1,\n",
    " 'VTO (m/min)': 968.0,\n",
    " 'VG1(m/min)': 1005.0,\n",
    " 'VG2(m/min)': 1701.0,\n",
    " 'VG3(m/min)': 1751,\n",
    " 'VG4(m/min)': 1780,\n",
    " 'Vwinder (m/min)': 1845.0,\n",
    " 'Tg1(°C)': 85.0,\n",
    " 'Tg2(°C)': 110.0,\n",
    " 'Tg3(°C)': 110.0,\n",
    " 'Quench (%)': 20.0,\n",
    " 'Spin. F (rmp)': 24.0,\n",
    " 'Height (m)': 1.4,\n",
    " 'Sand size min (um)': 0.0,\n",
    " 'Sand size max (um)': 0.0,\n",
    " 'Material_PA': 0.0,\n",
    " 'Material_PBT': 0.0,\n",
    " 'Material_PE': 0.0,\n",
    " 'Material_PES': 0.0,\n",
    " 'Material_PET': 1.0,\n",
    " 'Material_PHB': 0.0,\n",
    " 'Material_PLA': 0.0,\n",
    " 'Material_PP': 0.0,\n",
    " 'Material_TPE': 0.0,\n",
    " 'Material_TPX': 0.0}\n",
    "\n"
   ]
  },
  {
   "cell_type": "code",
   "execution_count": 3,
   "id": "5a835ace",
   "metadata": {},
   "outputs": [
    {
     "data": {
      "application/vnd.microsoft.datawrangler.viewer.v0+json": {
       "columns": [
        {
         "name": "index",
         "rawType": "int64",
         "type": "integer"
        },
        {
         "name": "Count (dtex)",
         "rawType": "float64",
         "type": "float"
        },
        {
         "name": "Elongation (%)",
         "rawType": "float64",
         "type": "float"
        },
        {
         "name": "Tenacity (g/den)",
         "rawType": "float64",
         "type": "float"
        }
       ],
       "ref": "063db1ba-6a90-46a3-b3aa-14dc5f59953e",
       "rows": [
        [
         "0",
         "157.78379632011394",
         "46.23317265005261",
         "0.5882837113318544"
        ],
        [
         "1",
         "157.78379632011394",
         "46.23317265005261",
         "0.5882837113318544"
        ]
       ],
       "shape": {
        "columns": 3,
        "rows": 2
       }
      },
      "text/html": [
       "<div>\n",
       "<style scoped>\n",
       "    .dataframe tbody tr th:only-of-type {\n",
       "        vertical-align: middle;\n",
       "    }\n",
       "\n",
       "    .dataframe tbody tr th {\n",
       "        vertical-align: top;\n",
       "    }\n",
       "\n",
       "    .dataframe thead th {\n",
       "        text-align: right;\n",
       "    }\n",
       "</style>\n",
       "<table border=\"1\" class=\"dataframe\">\n",
       "  <thead>\n",
       "    <tr style=\"text-align: right;\">\n",
       "      <th></th>\n",
       "      <th>Count (dtex)</th>\n",
       "      <th>Elongation (%)</th>\n",
       "      <th>Tenacity (g/den)</th>\n",
       "    </tr>\n",
       "  </thead>\n",
       "  <tbody>\n",
       "    <tr>\n",
       "      <th>0</th>\n",
       "      <td>157.783796</td>\n",
       "      <td>46.233173</td>\n",
       "      <td>0.588284</td>\n",
       "    </tr>\n",
       "    <tr>\n",
       "      <th>1</th>\n",
       "      <td>157.783796</td>\n",
       "      <td>46.233173</td>\n",
       "      <td>0.588284</td>\n",
       "    </tr>\n",
       "  </tbody>\n",
       "</table>\n",
       "</div>"
      ],
      "text/plain": [
       "   Count (dtex)  Elongation (%)  Tenacity (g/den)\n",
       "0    157.783796       46.233173          0.588284\n",
       "1    157.783796       46.233173          0.588284"
      ]
     },
     "execution_count": 3,
     "metadata": {},
     "output_type": "execute_result"
    }
   ],
   "source": [
    "predict_nn_onehot([sample,sample])"
   ]
  },
  {
   "cell_type": "code",
   "execution_count": 4,
   "id": "2181476a",
   "metadata": {},
   "outputs": [
    {
     "data": {
      "text/plain": [
       "30000"
      ]
     },
     "execution_count": 4,
     "metadata": {},
     "output_type": "execute_result"
    }
   ],
   "source": [
    "2000*15"
   ]
  },
  {
   "cell_type": "code",
   "execution_count": 5,
   "id": "aa062c8f",
   "metadata": {},
   "outputs": [
    {
     "data": {
      "application/vnd.microsoft.datawrangler.viewer.v0+json": {
       "columns": [
        {
         "name": "index",
         "rawType": "int64",
         "type": "integer"
        },
        {
         "name": "Count (dtex)",
         "rawType": "float64",
         "type": "float"
        },
        {
         "name": "Elongation (%)",
         "rawType": "float64",
         "type": "float"
        },
        {
         "name": "Tenacity (g/den)",
         "rawType": "float64",
         "type": "float"
        }
       ],
       "ref": "159e3af4-2ca5-4325-8123-ec4267bea48e",
       "rows": [
        [
         "0",
         "158.11212228558722",
         "50.170840434847",
         "0.8162134029723311"
        ],
        [
         "1",
         "158.11212228558722",
         "50.170840434847",
         "0.8162134029723311"
        ]
       ],
       "shape": {
        "columns": 3,
        "rows": 2
       }
      },
      "text/html": [
       "<div>\n",
       "<style scoped>\n",
       "    .dataframe tbody tr th:only-of-type {\n",
       "        vertical-align: middle;\n",
       "    }\n",
       "\n",
       "    .dataframe tbody tr th {\n",
       "        vertical-align: top;\n",
       "    }\n",
       "\n",
       "    .dataframe thead th {\n",
       "        text-align: right;\n",
       "    }\n",
       "</style>\n",
       "<table border=\"1\" class=\"dataframe\">\n",
       "  <thead>\n",
       "    <tr style=\"text-align: right;\">\n",
       "      <th></th>\n",
       "      <th>Count (dtex)</th>\n",
       "      <th>Elongation (%)</th>\n",
       "      <th>Tenacity (g/den)</th>\n",
       "    </tr>\n",
       "  </thead>\n",
       "  <tbody>\n",
       "    <tr>\n",
       "      <th>0</th>\n",
       "      <td>158.112122</td>\n",
       "      <td>50.17084</td>\n",
       "      <td>0.816213</td>\n",
       "    </tr>\n",
       "    <tr>\n",
       "      <th>1</th>\n",
       "      <td>158.112122</td>\n",
       "      <td>50.17084</td>\n",
       "      <td>0.816213</td>\n",
       "    </tr>\n",
       "  </tbody>\n",
       "</table>\n",
       "</div>"
      ],
      "text/plain": [
       "   Count (dtex)  Elongation (%)  Tenacity (g/den)\n",
       "0    158.112122        50.17084          0.816213\n",
       "1    158.112122        50.17084          0.816213"
      ]
     },
     "execution_count": 5,
     "metadata": {},
     "output_type": "execute_result"
    }
   ],
   "source": [
    "sample = {  'Nº holes / Nº filaments': 36.0,\n",
    "            'Diameter (mm)': 0.4,\n",
    "            'L/D': 4.0,\n",
    "            'Filter (um)': 60.0,\n",
    "            'Sand quantity (cm)': 0.0,\n",
    "            'Vpump (rpm)': 10.0,\n",
    "            'Vext (rpm)': 23.9,\n",
    "            'TE1 (°C)': 280.0,\n",
    "            'TE2 (°C)': 285.0,\n",
    "            'TE3 (°C)': 285.0,\n",
    "            'TE4 (°C)': 290.0,\n",
    "            'TD(°C)': 295.0,\n",
    "            'PD(bar)': 95.2,\n",
    "            'PE(bar)': 69.1,\n",
    "            'VTO (m/min)': 968.0,\n",
    "            'VG1(m/min)': 1005.0,\n",
    "            'VG2(m/min)': 1701.0,\n",
    "            'VG3(m/min)': 1751,\n",
    "            'VG4(m/min)': 1780,\n",
    "            'Vwinder (m/min)': 1845.0,\n",
    "            'Tg1(°C)': 85.0,\n",
    "            'Tg2(°C)': 110.0,\n",
    "            'Tg3(°C)': 110.0,\n",
    "            'Quench (%)': 20.0,\n",
    "            'Spin. F (rmp)': 24.0,\n",
    "            'Height (m)': 1.4,\n",
    "            'Sand size min (um)': 0.0,\n",
    "            'Sand size max (um)': 0.0,\n",
    "            'Material': \"PE\"}\n",
    "\n",
    "\n",
    "predict_nn([sample,sample])\n",
    "\n"
   ]
  },
  {
   "cell_type": "code",
   "execution_count": null,
   "id": "acee8def",
   "metadata": {},
   "outputs": [],
   "source": []
  }
 ],
 "metadata": {
  "kernelspec": {
   "display_name": "Python 3",
   "language": "python",
   "name": "python3"
  },
  "language_info": {
   "codemirror_mode": {
    "name": "ipython",
    "version": 3
   },
   "file_extension": ".py",
   "mimetype": "text/x-python",
   "name": "python",
   "nbconvert_exporter": "python",
   "pygments_lexer": "ipython3",
   "version": "3.9.23"
  }
 },
 "nbformat": 4,
 "nbformat_minor": 5
}
