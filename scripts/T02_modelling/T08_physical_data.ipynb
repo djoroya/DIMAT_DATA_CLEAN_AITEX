{
 "cells": [
  {
   "cell_type": "code",
   "execution_count": 28,
   "id": "8c3bd042",
   "metadata": {},
   "outputs": [],
   "source": [
    "from data.data import load_physical_data\n",
    "import pandas as pd\n",
    "import numpy as np"
   ]
  },
  {
   "cell_type": "code",
   "execution_count": 29,
   "id": "0be290bb",
   "metadata": {},
   "outputs": [],
   "source": [
    "df_physical = load_physical_data()"
   ]
  },
  {
   "cell_type": "code",
   "execution_count": 30,
   "id": "d6992b7a",
   "metadata": {},
   "outputs": [
    {
     "data": {
      "application/vnd.microsoft.datawrangler.viewer.v0+json": {
       "columns": [
        {
         "name": "index",
         "rawType": "int64",
         "type": "integer"
        },
        {
         "name": "Orientation (deg)",
         "rawType": "float64",
         "type": "float"
        },
        {
         "name": "Crystallinity (%)",
         "rawType": "float64",
         "type": "float"
        },
        {
         "name": "Strength (MPa)",
         "rawType": "float64",
         "type": "float"
        }
       ],
       "ref": "6fc4dce1-fdb9-4846-ab45-6b58b28e43f8",
       "rows": [
        [
         "0",
         "0.0",
         "30.0",
         "221.60872486042857"
        ],
        [
         "1",
         "0.0",
         "75.0",
         "254.9133601470627"
        ],
        [
         "2",
         "0.0",
         "30.0",
         "219.2892590073024"
        ],
        [
         "3",
         "0.0",
         "41.25",
         "245.2209287166661"
        ],
        [
         "4",
         "0.0",
         "52.5",
         "187.54604854651623"
        ],
        [
         "5",
         "0.0",
         "63.74999999999999",
         "256.35924903133093"
        ],
        [
         "6",
         "0.0",
         "75.0",
         "239.53839216780847"
        ],
        [
         "7",
         "11.25",
         "30.0",
         "205.70744671957465"
        ],
        [
         "8",
         "11.25",
         "41.25",
         "206.9832260248089"
        ],
        [
         "9",
         "11.25",
         "52.5",
         "233.9857929931233"
        ],
        [
         "10",
         "11.25",
         "63.74999999999999",
         "240.2410913039681"
        ],
        [
         "11",
         "11.25",
         "75.0",
         "233.3294929809262"
        ],
        [
         "12",
         "22.5",
         "30.0",
         "176.516146156866"
        ],
        [
         "13",
         "22.5",
         "41.25",
         "185.5747505334775"
        ],
        [
         "14",
         "22.5",
         "52.5",
         "188.839617304462"
        ],
        [
         "15",
         "22.5",
         "63.74999999999999",
         "189.13618034989355"
        ],
        [
         "16",
         "22.5",
         "75.0",
         "203.60315406666555"
        ],
        [
         "17",
         "33.75",
         "30.0",
         "182.3113681116673"
        ],
        [
         "18",
         "33.75",
         "41.25",
         "180.76968777683555"
        ],
        [
         "19",
         "33.75",
         "52.5",
         "171.44522353388544"
        ],
        [
         "20",
         "33.75",
         "63.74999999999999",
         "150.69465788889823"
        ],
        [
         "21",
         "33.75",
         "75.0",
         "146.33335574981805"
        ],
        [
         "22",
         "45.0",
         "30.0",
         "157.03323285527415"
        ],
        [
         "23",
         "45.0",
         "41.25",
         "168.0878477675925"
        ],
        [
         "24",
         "45.0",
         "52.5",
         "148.95159535108357"
        ],
        [
         "25",
         "45.0",
         "63.74999999999999",
         "118.62391020969687"
        ],
        [
         "26",
         "45.0",
         "75.0",
         "139.92314158101004"
        ]
       ],
       "shape": {
        "columns": 3,
        "rows": 27
       }
      },
      "text/html": [
       "<div>\n",
       "<style scoped>\n",
       "    .dataframe tbody tr th:only-of-type {\n",
       "        vertical-align: middle;\n",
       "    }\n",
       "\n",
       "    .dataframe tbody tr th {\n",
       "        vertical-align: top;\n",
       "    }\n",
       "\n",
       "    .dataframe thead th {\n",
       "        text-align: right;\n",
       "    }\n",
       "</style>\n",
       "<table border=\"1\" class=\"dataframe\">\n",
       "  <thead>\n",
       "    <tr style=\"text-align: right;\">\n",
       "      <th></th>\n",
       "      <th>Orientation (deg)</th>\n",
       "      <th>Crystallinity (%)</th>\n",
       "      <th>Strength (MPa)</th>\n",
       "    </tr>\n",
       "  </thead>\n",
       "  <tbody>\n",
       "    <tr>\n",
       "      <th>0</th>\n",
       "      <td>0.00</td>\n",
       "      <td>30.00</td>\n",
       "      <td>221.608725</td>\n",
       "    </tr>\n",
       "    <tr>\n",
       "      <th>1</th>\n",
       "      <td>0.00</td>\n",
       "      <td>75.00</td>\n",
       "      <td>254.913360</td>\n",
       "    </tr>\n",
       "    <tr>\n",
       "      <th>2</th>\n",
       "      <td>0.00</td>\n",
       "      <td>30.00</td>\n",
       "      <td>219.289259</td>\n",
       "    </tr>\n",
       "    <tr>\n",
       "      <th>3</th>\n",
       "      <td>0.00</td>\n",
       "      <td>41.25</td>\n",
       "      <td>245.220929</td>\n",
       "    </tr>\n",
       "    <tr>\n",
       "      <th>4</th>\n",
       "      <td>0.00</td>\n",
       "      <td>52.50</td>\n",
       "      <td>187.546049</td>\n",
       "    </tr>\n",
       "    <tr>\n",
       "      <th>5</th>\n",
       "      <td>0.00</td>\n",
       "      <td>63.75</td>\n",
       "      <td>256.359249</td>\n",
       "    </tr>\n",
       "    <tr>\n",
       "      <th>6</th>\n",
       "      <td>0.00</td>\n",
       "      <td>75.00</td>\n",
       "      <td>239.538392</td>\n",
       "    </tr>\n",
       "    <tr>\n",
       "      <th>7</th>\n",
       "      <td>11.25</td>\n",
       "      <td>30.00</td>\n",
       "      <td>205.707447</td>\n",
       "    </tr>\n",
       "    <tr>\n",
       "      <th>8</th>\n",
       "      <td>11.25</td>\n",
       "      <td>41.25</td>\n",
       "      <td>206.983226</td>\n",
       "    </tr>\n",
       "    <tr>\n",
       "      <th>9</th>\n",
       "      <td>11.25</td>\n",
       "      <td>52.50</td>\n",
       "      <td>233.985793</td>\n",
       "    </tr>\n",
       "    <tr>\n",
       "      <th>10</th>\n",
       "      <td>11.25</td>\n",
       "      <td>63.75</td>\n",
       "      <td>240.241091</td>\n",
       "    </tr>\n",
       "    <tr>\n",
       "      <th>11</th>\n",
       "      <td>11.25</td>\n",
       "      <td>75.00</td>\n",
       "      <td>233.329493</td>\n",
       "    </tr>\n",
       "    <tr>\n",
       "      <th>12</th>\n",
       "      <td>22.50</td>\n",
       "      <td>30.00</td>\n",
       "      <td>176.516146</td>\n",
       "    </tr>\n",
       "    <tr>\n",
       "      <th>13</th>\n",
       "      <td>22.50</td>\n",
       "      <td>41.25</td>\n",
       "      <td>185.574751</td>\n",
       "    </tr>\n",
       "    <tr>\n",
       "      <th>14</th>\n",
       "      <td>22.50</td>\n",
       "      <td>52.50</td>\n",
       "      <td>188.839617</td>\n",
       "    </tr>\n",
       "    <tr>\n",
       "      <th>15</th>\n",
       "      <td>22.50</td>\n",
       "      <td>63.75</td>\n",
       "      <td>189.136180</td>\n",
       "    </tr>\n",
       "    <tr>\n",
       "      <th>16</th>\n",
       "      <td>22.50</td>\n",
       "      <td>75.00</td>\n",
       "      <td>203.603154</td>\n",
       "    </tr>\n",
       "    <tr>\n",
       "      <th>17</th>\n",
       "      <td>33.75</td>\n",
       "      <td>30.00</td>\n",
       "      <td>182.311368</td>\n",
       "    </tr>\n",
       "    <tr>\n",
       "      <th>18</th>\n",
       "      <td>33.75</td>\n",
       "      <td>41.25</td>\n",
       "      <td>180.769688</td>\n",
       "    </tr>\n",
       "    <tr>\n",
       "      <th>19</th>\n",
       "      <td>33.75</td>\n",
       "      <td>52.50</td>\n",
       "      <td>171.445224</td>\n",
       "    </tr>\n",
       "    <tr>\n",
       "      <th>20</th>\n",
       "      <td>33.75</td>\n",
       "      <td>63.75</td>\n",
       "      <td>150.694658</td>\n",
       "    </tr>\n",
       "    <tr>\n",
       "      <th>21</th>\n",
       "      <td>33.75</td>\n",
       "      <td>75.00</td>\n",
       "      <td>146.333356</td>\n",
       "    </tr>\n",
       "    <tr>\n",
       "      <th>22</th>\n",
       "      <td>45.00</td>\n",
       "      <td>30.00</td>\n",
       "      <td>157.033233</td>\n",
       "    </tr>\n",
       "    <tr>\n",
       "      <th>23</th>\n",
       "      <td>45.00</td>\n",
       "      <td>41.25</td>\n",
       "      <td>168.087848</td>\n",
       "    </tr>\n",
       "    <tr>\n",
       "      <th>24</th>\n",
       "      <td>45.00</td>\n",
       "      <td>52.50</td>\n",
       "      <td>148.951595</td>\n",
       "    </tr>\n",
       "    <tr>\n",
       "      <th>25</th>\n",
       "      <td>45.00</td>\n",
       "      <td>63.75</td>\n",
       "      <td>118.623910</td>\n",
       "    </tr>\n",
       "    <tr>\n",
       "      <th>26</th>\n",
       "      <td>45.00</td>\n",
       "      <td>75.00</td>\n",
       "      <td>139.923142</td>\n",
       "    </tr>\n",
       "  </tbody>\n",
       "</table>\n",
       "</div>"
      ],
      "text/plain": [
       "    Orientation (deg)  Crystallinity (%)  Strength (MPa)\n",
       "0                0.00              30.00      221.608725\n",
       "1                0.00              75.00      254.913360\n",
       "2                0.00              30.00      219.289259\n",
       "3                0.00              41.25      245.220929\n",
       "4                0.00              52.50      187.546049\n",
       "5                0.00              63.75      256.359249\n",
       "6                0.00              75.00      239.538392\n",
       "7               11.25              30.00      205.707447\n",
       "8               11.25              41.25      206.983226\n",
       "9               11.25              52.50      233.985793\n",
       "10              11.25              63.75      240.241091\n",
       "11              11.25              75.00      233.329493\n",
       "12              22.50              30.00      176.516146\n",
       "13              22.50              41.25      185.574751\n",
       "14              22.50              52.50      188.839617\n",
       "15              22.50              63.75      189.136180\n",
       "16              22.50              75.00      203.603154\n",
       "17              33.75              30.00      182.311368\n",
       "18              33.75              41.25      180.769688\n",
       "19              33.75              52.50      171.445224\n",
       "20              33.75              63.75      150.694658\n",
       "21              33.75              75.00      146.333356\n",
       "22              45.00              30.00      157.033233\n",
       "23              45.00              41.25      168.087848\n",
       "24              45.00              52.50      148.951595\n",
       "25              45.00              63.75      118.623910\n",
       "26              45.00              75.00      139.923142"
      ]
     },
     "execution_count": 30,
     "metadata": {},
     "output_type": "execute_result"
    }
   ],
   "source": [
    "# surface \n",
    "df_physical"
   ]
  },
  {
   "cell_type": "code",
   "execution_count": null,
   "id": "c946b684",
   "metadata": {},
   "outputs": [],
   "source": [
    "# add orientation column negative\n",
    "\n",
    "df_copy = df_physical.copy()\n",
    "df_copy['Orientation (deg)'] = df_copy['Orientation (deg)'].apply(lambda x: -x if x != 0 else x)\n",
    "\n",
    "# append the original data\n",
    "df_physical = pd.concat([df_physical, df_copy], ignore_index=True) "
   ]
  },
  {
   "cell_type": "code",
   "execution_count": 32,
   "id": "7a2fd4ef",
   "metadata": {},
   "outputs": [
    {
     "data": {
      "text/plain": [
       "Text(0.5, 1.0, 'Strength (MPa) vs Orientation and Crystallinity')"
      ]
     },
     "execution_count": 32,
     "metadata": {},
     "output_type": "execute_result"
    },
    {
     "data": {
      "image/png": "[encoded data removed]",
      "text/plain": [
       "<Figure size 1000x800 with 2 Axes>"
      ]
     },
     "metadata": {},
     "output_type": "display_data"
    }
   ],
   "source": [
    "oirentation   = np.array(df_physical['Orientation (deg)'])\n",
    "crystallinity = np.array(df_physical['Crystallinity (%)'])\n",
    "strength      = np.array(df_physical['Strength (MPa)'])\n",
    "\n",
    "# plot contourf and scatter\n",
    "import matplotlib.pyplot as plt\n",
    "from mpl_toolkits.mplot3d import Axes3D\n",
    "from matplotlib import cm\n",
    "from matplotlib.ticker import LinearLocator, FormatStrFormatter\n",
    "from scipy.interpolate import griddata\n",
    "from mpl_toolkits.mplot3d import Axes3D\n",
    "from matplotlib import cm\n",
    "from matplotlib.ticker import LinearLocator, FormatStrFormatter\n",
    "from scipy.interpolate import griddata\n",
    "fig = plt.figure(figsize=(10, 8))\n",
    "ax = fig.add_subplot(111)\n",
    "# Create grid points\n",
    "xi = np.linspace(oirentation.min(), oirentation.max(), 100)\n",
    "yi = np.linspace(crystallinity.min(), crystallinity.max(), 100)\n",
    "xi, yi = np.meshgrid(xi, yi)\n",
    "# Interpolate the strength values on the grid\n",
    "\n",
    "zi = griddata((oirentation, crystallinity), strength, (xi, yi), method='linear')\n",
    "# Plot the surface\n",
    "surf = ax.contourf(xi, yi, zi, 20, cmap=cm.jet, alpha=0.8)\n",
    "# Plot the scatter points\n",
    "# colorbar \n",
    "plt.colorbar(surf, ax=ax, shrink=0.5, aspect=5, label='Strength (MPa)')\n",
    "# labels\n",
    "ax.set_xlabel('Orientation (deg)')\n",
    "ax.set_ylabel('Crystallinity (%)')\n",
    "ax.set_title('Strength (MPa) vs Orientation and Crystallinity')"
   ]
  }
 ],
 "metadata": {
  "kernelspec": {
   "display_name": "Python 3",
   "language": "python",
   "name": "python3"
  },
  "language_info": {
   "codemirror_mode": {
    "name": "ipython",
    "version": 3
   },
   "file_extension": ".py",
   "mimetype": "text/x-python",
   "name": "python",
   "nbconvert_exporter": "python",
   "pygments_lexer": "ipython3",
   "version": "3.11.13"
  }
 },
 "nbformat": 4,
 "nbformat_minor": 5
}
